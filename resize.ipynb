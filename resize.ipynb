{
 "cells": [
  {
   "cell_type": "code",
   "execution_count": 1,
   "metadata": {},
   "outputs": [],
   "source": [
    "import cv2\n",
    "import matplotlib.pyplot as plt\n",
    "import os\n"
   ]
  },
  {
   "cell_type": "markdown",
   "metadata": {},
   "source": [
    "### Script to resize every single image \n",
    "- Open a folder, resizes all and stores in a new folder"
   ]
  },
  {
   "cell_type": "code",
   "execution_count": 4,
   "metadata": {},
   "outputs": [
    {
     "name": "stdout",
     "output_type": "stream",
     "text": [
      "Done\n"
     ]
    }
   ],
   "source": [
    "# Define input and output directories\n",
    "# Get current working directory\n",
    "base_dir = os.getcwd()\n",
    "\n",
    "# Define data challenge and resized images directories relative to current directory\n",
    "data_challenge_dir = os.path.join(base_dir, 'TestImages', 'preloaded_images')\n",
    "resized_images_dir = os.path.join(base_dir, 'TestImages', 'ResizedImages')\n",
    "\n",
    "# Define pose directories\n",
    "pose_dirs = [\n",
    "    'Celebration',\n",
    "    'CrossedArms-45deg-l',\n",
    "    'CrossedArms-45deg-r',\n",
    "    'CrossedArms-90deg-l',\n",
    "    'CrossedArms-90deg-r',\n",
    "    'CrossedArms-frontal',\n",
    "    'Full Body',\n",
    "    'Half Body',\n",
    "    'HandsOnHips-45deg-l',\n",
    "    'HandsOnHips-45deg-r',\n",
    "    'HandsOnHips-90-deg-l',\n",
    "    'HandsOnHips-90deg-r',\n",
    "    'Head Shot',\n",
    "    'HoldingBall',\n",
    "    'HoldingBall-45deg-l',\n",
    "    'HoldingBall-45deg-r'\n",
    "]\n",
    "\n",
    "# Create input directories\n",
    "input_dirs = [os.path.join(data_challenge_dir, pose_dir) for pose_dir in pose_dirs]\n",
    "\n",
    "# Create output directories\n",
    "output_dirs = [os.path.join(resized_images_dir, str(i)) for i in range(len(pose_dirs))]\n",
    "\n",
    "# Define target size for resizing\n",
    "target_size = (660, 1000)\n",
    "\n",
    "# Make sure all output directories exist\n",
    "for output_dir in output_dirs:\n",
    "    os.makedirs(output_dir, exist_ok=True)\n",
    "\n",
    "# Process each input directory\n",
    "for i, input_dir in enumerate(input_dirs):\n",
    "    if i >= len(output_dirs):\n",
    "        continue\n",
    "        \n",
    "    output_dir = output_dirs[i]\n",
    "    \n",
    "    # Find all PNG files in the input directory\n",
    "    image_files = [f for f in os.listdir(input_dir) if f.lower().endswith('.png')]\n",
    "    \n",
    "    # Process each image\n",
    "    for image_file in image_files:\n",
    "        # Construct full paths\n",
    "        input_path = os.path.join(input_dir, image_file)\n",
    "        output_path = os.path.join(output_dir, image_file)\n",
    "        \n",
    "        # Read the image\n",
    "        image = cv2.imread(input_path)\n",
    "        \n",
    "        if image is not None:\n",
    "            # Resize the image\n",
    "            resized_image = cv2.resize(image, target_size)\n",
    "            \n",
    "            # Save the resized image\n",
    "            cv2.imwrite(output_path, resized_image)\n",
    "\n",
    "print(\"Done\")\n"
   ]
  }
 ],
 "metadata": {
  "kernelspec": {
   "display_name": "opencv_env",
   "language": "python",
   "name": "python3"
  },
  "language_info": {
   "codemirror_mode": {
    "name": "ipython",
    "version": 3
   },
   "file_extension": ".py",
   "mimetype": "text/x-python",
   "name": "python",
   "nbconvert_exporter": "python",
   "pygments_lexer": "ipython3",
   "version": "3.10.16"
  }
 },
 "nbformat": 4,
 "nbformat_minor": 2
}
