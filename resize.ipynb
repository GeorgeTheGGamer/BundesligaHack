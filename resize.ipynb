{
 "cells": [
  {
   "cell_type": "code",
   "execution_count": 1,
   "metadata": {},
   "outputs": [],
   "source": [
    "import cv2\n",
    "import matplotlib.pyplot as plt\n",
    "import os\n"
   ]
  },
  {
   "cell_type": "code",
   "execution_count": 6,
   "metadata": {},
   "outputs": [],
   "source": [
    "# Loading the image\n",
    "image = cv2.imread(r'C:\\Users\\Georg\\Downloads\\AWS Hack\\additional_pictures_challenge_1\\New_Pictures\\Head Shot\\B04_frimpong_jeremie_o_2324_1000x1000.png')\n",
    "\n",
    "# Resizing Image \n",
    "resized_image = cv2.resize(image, (3300,5000))\n",
    "\n",
    "\n"
   ]
  },
  {
   "cell_type": "code",
   "execution_count": 7,
   "metadata": {},
   "outputs": [],
   "source": [
    "cv2.imshow(\"Resize image : \", resized_image)\n",
    "cv2.waitKey(0) \n",
    "cv2.destroyAllWindows()"
   ]
  },
  {
   "cell_type": "markdown",
   "metadata": {},
   "source": [
    "### Script to resize every single image \n",
    "- Open a folder, resizes all and stores in a new folder"
   ]
  },
  {
   "cell_type": "code",
   "execution_count": 3,
   "metadata": {},
   "outputs": [
    {
     "name": "stdout",
     "output_type": "stream",
     "text": [
      "Done\n"
     ]
    }
   ],
   "source": [
    "# Define input and output directories\n",
    "input_dirs = [\n",
    "    r'C:\\Users\\Georg\\Downloads\\AWS Hack\\data_challenge_1\\data_challenge_1\\Celebration',\n",
    "    r'C:\\Users\\Georg\\Downloads\\AWS Hack\\data_challenge_1\\data_challenge_1\\CrossedArms-45deg-l',\n",
    "    r'C:\\Users\\Georg\\Downloads\\AWS Hack\\data_challenge_1\\data_challenge_1\\CrossedArms-45deg-r',\n",
    "    r'C:\\Users\\Georg\\Downloads\\AWS Hack\\data_challenge_1\\data_challenge_1\\CrossedArms-90deg-l',\n",
    "    r'C:\\Users\\Georg\\Downloads\\AWS Hack\\data_challenge_1\\data_challenge_1\\CrossedArms-90deg-r',\n",
    "    r'C:\\Users\\Georg\\Downloads\\AWS Hack\\data_challenge_1\\data_challenge_1\\CrossedArms-frontal',\n",
    "    r'C:\\Users\\Georg\\Downloads\\AWS Hack\\data_challenge_1\\data_challenge_1\\Full Body',\n",
    "    r'C:\\Users\\Georg\\Downloads\\AWS Hack\\data_challenge_1\\data_challenge_1\\Half Body',\n",
    "    r'C:\\Users\\Georg\\Downloads\\AWS Hack\\data_challenge_1\\data_challenge_1\\HandsOnHips-45deg-l',\n",
    "    r'C:\\Users\\Georg\\Downloads\\AWS Hack\\data_challenge_1\\data_challenge_1\\HandsOnHips-45deg-r',\n",
    "    r'C:\\Users\\Georg\\Downloads\\AWS Hack\\data_challenge_1\\data_challenge_1\\HandsOnHips-90-deg-l',\n",
    "    r'C:\\Users\\Georg\\Downloads\\AWS Hack\\data_challenge_1\\data_challenge_1\\HandsOnHips-90deg-r',\n",
    "    r'C:\\Users\\Georg\\Downloads\\AWS Hack\\data_challenge_1\\data_challenge_1\\Head Shot',\n",
    "    r'C:\\Users\\Georg\\Downloads\\AWS Hack\\data_challenge_1\\data_challenge_1\\HoldingBall',\n",
    "    r'C:\\Users\\Georg\\Downloads\\AWS Hack\\data_challenge_1\\data_challenge_1\\HoldingBall-45deg-l',\n",
    "    r'C:\\Users\\Georg\\Downloads\\AWS Hack\\data_challenge_1\\data_challenge_1\\HoldingBall-45deg-r'\n",
    "]\n",
    "\n",
    "output_dirs = [\n",
    "    r'C:\\Users\\Georg\\Downloads\\AWS Hack\\resized_images\\0',\n",
    "    r'C:\\Users\\Georg\\Downloads\\AWS Hack\\resized_images\\1',\n",
    "    r'C:\\Users\\Georg\\Downloads\\AWS Hack\\resized_images\\2',\n",
    "    r'C:\\Users\\Georg\\Downloads\\AWS Hack\\resized_images\\3',\n",
    "    r'C:\\Users\\Georg\\Downloads\\AWS Hack\\resized_images\\4',\n",
    "    r'C:\\Users\\Georg\\Downloads\\AWS Hack\\resized_images\\5',\n",
    "    r'C:\\Users\\Georg\\Downloads\\AWS Hack\\resized_images\\6',\n",
    "    r'C:\\Users\\Georg\\Downloads\\AWS Hack\\resized_images\\7',\n",
    "    r'C:\\Users\\Georg\\Downloads\\AWS Hack\\resized_images\\8',\n",
    "    r'C:\\Users\\Georg\\Downloads\\AWS Hack\\resized_images\\9',\n",
    "    r'C:\\Users\\Georg\\Downloads\\AWS Hack\\resized_images\\10',\n",
    "    r'C:\\Users\\Georg\\Downloads\\AWS Hack\\resized_images\\11',\n",
    "    r'C:\\Users\\Georg\\Downloads\\AWS Hack\\resized_images\\12',\n",
    "    r'C:\\Users\\Georg\\Downloads\\AWS Hack\\resized_images\\13',\n",
    "    r'C:\\Users\\Georg\\Downloads\\AWS Hack\\resized_images\\14',\n",
    "    r'C:\\Users\\Georg\\Downloads\\AWS Hack\\resized_images\\15'\n",
    "]\n",
    "\n",
    "# Define target size for resizing\n",
    "target_size = (660, 1000)\n",
    "\n",
    "# Make sure all output directories exist\n",
    "for output_dir in output_dirs:\n",
    "    os.makedirs(output_dir, exist_ok=True)\n",
    "\n",
    "# Process each input directory\n",
    "for i, input_dir in enumerate(input_dirs):\n",
    "    if i >= len(output_dirs):\n",
    "        continue\n",
    "        \n",
    "    output_dir = output_dirs[i]\n",
    "    \n",
    "    # Find all PNG files in the input directory\n",
    "    image_files = [f for f in os.listdir(input_dir) if f.lower().endswith('.png')]\n",
    "    \n",
    "    # Process each image\n",
    "    for image_file in image_files:\n",
    "        # Construct full paths\n",
    "        input_path = os.path.join(input_dir, image_file)\n",
    "        output_path = os.path.join(output_dir, image_file)\n",
    "        \n",
    "        # Read the image\n",
    "        image = cv2.imread(input_path)\n",
    "        \n",
    "        if image is not None:\n",
    "            # Resize the image\n",
    "            resized_image = cv2.resize(image, target_size)\n",
    "            \n",
    "            # Save the resized image\n",
    "            cv2.imwrite(output_path, resized_image)\n",
    "\n",
    "print(\"Done\")\n"
   ]
  },
  {
   "cell_type": "markdown",
   "metadata": {},
   "source": [
    "# Naieve Neural network "
   ]
  },
  {
   "cell_type": "markdown",
   "metadata": {},
   "source": [
    "### Make classes into categories "
   ]
  },
  {
   "cell_type": "code",
   "execution_count": null,
   "metadata": {},
   "outputs": [],
   "source": []
  }
 ],
 "metadata": {
  "kernelspec": {
   "display_name": "opencv_env",
   "language": "python",
   "name": "python3"
  },
  "language_info": {
   "codemirror_mode": {
    "name": "ipython",
    "version": 3
   },
   "file_extension": ".py",
   "mimetype": "text/x-python",
   "name": "python",
   "nbconvert_exporter": "python",
   "pygments_lexer": "ipython3",
   "version": "3.10.16"
  }
 },
 "nbformat": 4,
 "nbformat_minor": 2
}
